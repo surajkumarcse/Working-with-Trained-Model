{
 "cells": [
  {
   "cell_type": "code",
   "execution_count": 1,
   "metadata": {},
   "outputs": [
    {
     "name": "stderr",
     "output_type": "stream",
     "text": [
      "Using TensorFlow backend.\n"
     ]
    }
   ],
   "source": [
    "import numpy as np\n",
    "import pickle\n",
    "import cv2\n",
    "from keras.preprocessing.image import img_to_array\n",
    "from sklearn.preprocessing import LabelBinarizer\n",
    "\n",
    "\n",
    "\n",
    "default_image_size = tuple((256, 256))\n"
   ]
  },
  {
   "cell_type": "code",
   "execution_count": 14,
   "metadata": {},
   "outputs": [],
   "source": [
    "def convert_image_to_array(image_dir):\n",
    "    try:\n",
    "        image = cv2.imread(image_dir)\n",
    "        if image is not None :\n",
    "            image = cv2.resize(image, default_image_size) \n",
    "            print('image', image)\n",
    "            return img_to_array(image)\n",
    "        else :\n",
    "            return np.array([])\n",
    "    except Exception as e:\n",
    "        print(f\"Error : {e}\")\n",
    "        return None\n",
    "\n"
   ]
  },
  {
   "cell_type": "code",
   "execution_count": 15,
   "metadata": {},
   "outputs": [],
   "source": [
    "fileobject = open('cnn_model.pkl', 'rb')\n",
    "model = pickle.load(fileobject)\n",
    "imgpath='potato__healthy.jpeg'\n"
   ]
  },
  {
   "cell_type": "code",
   "execution_count": 16,
   "metadata": {},
   "outputs": [
    {
     "name": "stdout",
     "output_type": "stream",
     "text": [
      "image [[[147 140 161]\n",
      "  [120 113 134]\n",
      "  [118 111 132]\n",
      "  ...\n",
      "  [136 130 149]\n",
      "  [133 127 146]\n",
      "  [129 123 142]]\n",
      "\n",
      " [[ 97  90 111]\n",
      "  [139 132 153]\n",
      "  [168 161 182]\n",
      "  ...\n",
      "  [139 133 152]\n",
      "  [137 131 150]\n",
      "  [134 128 147]]\n",
      "\n",
      " [[132 125 146]\n",
      "  [139 132 153]\n",
      "  [125 118 139]\n",
      "  ...\n",
      "  [139 133 152]\n",
      "  [138 132 151]\n",
      "  [136 130 149]]\n",
      "\n",
      " ...\n",
      "\n",
      " [[152 145 160]\n",
      "  [174 167 182]\n",
      "  [163 156 171]\n",
      "  ...\n",
      "  [155 145 158]\n",
      "  [164 154 167]\n",
      "  [175 165 178]]\n",
      "\n",
      " [[179 172 187]\n",
      "  [168 161 176]\n",
      "  [182 175 190]\n",
      "  ...\n",
      "  [168 158 171]\n",
      "  [154 144 157]\n",
      "  [140 130 143]]\n",
      "\n",
      " [[189 182 197]\n",
      "  [176 169 184]\n",
      "  [180 173 188]\n",
      "  ...\n",
      "  [172 162 175]\n",
      "  [148 138 151]\n",
      "  [122 112 125]]]\n",
      "imar [[[147. 140. 161.]\n",
      "  [120. 113. 134.]\n",
      "  [118. 111. 132.]\n",
      "  ...\n",
      "  [136. 130. 149.]\n",
      "  [133. 127. 146.]\n",
      "  [129. 123. 142.]]\n",
      "\n",
      " [[ 97.  90. 111.]\n",
      "  [139. 132. 153.]\n",
      "  [168. 161. 182.]\n",
      "  ...\n",
      "  [139. 133. 152.]\n",
      "  [137. 131. 150.]\n",
      "  [134. 128. 147.]]\n",
      "\n",
      " [[132. 125. 146.]\n",
      "  [139. 132. 153.]\n",
      "  [125. 118. 139.]\n",
      "  ...\n",
      "  [139. 133. 152.]\n",
      "  [138. 132. 151.]\n",
      "  [136. 130. 149.]]\n",
      "\n",
      " ...\n",
      "\n",
      " [[152. 145. 160.]\n",
      "  [174. 167. 182.]\n",
      "  [163. 156. 171.]\n",
      "  ...\n",
      "  [155. 145. 158.]\n",
      "  [164. 154. 167.]\n",
      "  [175. 165. 178.]]\n",
      "\n",
      " [[179. 172. 187.]\n",
      "  [168. 161. 176.]\n",
      "  [182. 175. 190.]\n",
      "  ...\n",
      "  [168. 158. 171.]\n",
      "  [154. 144. 157.]\n",
      "  [140. 130. 143.]]\n",
      "\n",
      " [[189. 182. 197.]\n",
      "  [176. 169. 184.]\n",
      "  [180. 173. 188.]\n",
      "  ...\n",
      "  [172. 162. 175.]\n",
      "  [148. 138. 151.]\n",
      "  [122. 112. 125.]]]\n",
      "npimagelist [[[[0.6533 0.622  0.7153]\n",
      "   [0.533  0.5024 0.5957]\n",
      "   [0.5244 0.4934 0.5864]\n",
      "   ...\n",
      "   [0.6045 0.5776 0.662 ]\n",
      "   [0.5913 0.5645 0.649 ]\n",
      "   [0.573  0.547  0.6313]]\n",
      "\n",
      "  [[0.4312 0.4    0.4934]\n",
      "   [0.6177 0.5864 0.68  ]\n",
      "   [0.7466 0.7153 0.809 ]\n",
      "   ...\n",
      "   [0.6177 0.5913 0.676 ]\n",
      "   [0.609  0.582  0.6665]\n",
      "   [0.5957 0.569  0.6533]]\n",
      "\n",
      "  [[0.5864 0.5557 0.649 ]\n",
      "   [0.6177 0.5864 0.68  ]\n",
      "   [0.5557 0.5244 0.6177]\n",
      "   ...\n",
      "   [0.6177 0.5913 0.676 ]\n",
      "   [0.6133 0.5864 0.671 ]\n",
      "   [0.6045 0.5776 0.662 ]]\n",
      "\n",
      "  ...\n",
      "\n",
      "  [[0.676  0.6445 0.711 ]\n",
      "   [0.7734 0.742  0.809 ]\n",
      "   [0.7246 0.6934 0.76  ]\n",
      "   ...\n",
      "   [0.689  0.6445 0.702 ]\n",
      "   [0.729  0.6846 0.742 ]\n",
      "   [0.778  0.7334 0.791 ]]\n",
      "\n",
      "  [[0.7954 0.7646 0.831 ]\n",
      "   [0.7466 0.7153 0.782 ]\n",
      "   [0.809  0.778  0.844 ]\n",
      "   ...\n",
      "   [0.7466 0.702  0.76  ]\n",
      "   [0.6846 0.64   0.6978]\n",
      "   [0.622  0.5776 0.6357]]\n",
      "\n",
      "  [[0.84   0.809  0.8755]\n",
      "   [0.782  0.751  0.818 ]\n",
      "   [0.8    0.769  0.8354]\n",
      "   ...\n",
      "   [0.7646 0.72   0.778 ]\n",
      "   [0.6577 0.6133 0.671 ]\n",
      "   [0.542  0.4978 0.5557]]]]\n"
     ]
    }
   ],
   "source": [
    "imar = convert_image_to_array(imgpath)\n",
    "#print('imar', imar)\n",
    "npimagelist = np.array([imar], dtype=np.float16) / 225.0\n",
    "#print('npimagelist', npimagelist)\n"
   ]
  },
  {
   "cell_type": "code",
   "execution_count": 13,
   "metadata": {},
   "outputs": [
    {
     "name": "stdout",
     "output_type": "stream",
     "text": [
      "[[6.0540093e-03 2.7965129e-05 8.7222620e-09 4.1387736e-08 9.9292141e-01\n",
      "  1.7614219e-11 2.3912531e-08 1.5094177e-10 1.2893986e-12 2.2474051e-06\n",
      "  2.1706064e-11 5.7275741e-07 6.3949135e-10 9.9365413e-04 1.8971959e-10]]\n"
     ]
    }
   ],
   "source": [
    "PREDICTEDCLASSES2 = model.predict(npimagelist)\n",
    "print(PREDICTEDCLASSES2)\n"
   ]
  },
  {
   "cell_type": "code",
   "execution_count": 6,
   "metadata": {},
   "outputs": [],
   "source": [
    "label_classes = ['Pepper__bell___Bacterial_spot', 'Pepper__bell___healthy',\n",
    " 'Potato___Early_blight', 'Potato___Late_blight', 'Potato___healthy',\n",
    " 'Tomato_Bacterial_spot', 'Tomato_Early_blight', 'Tomato_Late_blight',\n",
    " 'Tomato_Leaf_Mold', 'Tomato_Septoria_leaf_spot',\n",
    " 'Tomato_Spider_mites_Two_spotted_spider_mite', 'Tomato__Target_Spot',\n",
    " 'Tomato__Tomato_YellowLeaf__Curl_Virus', 'Tomato__Tomato_mosaic_virus',\n",
    " 'Tomato_healthy']\n"
   ]
  },
  {
   "cell_type": "code",
   "execution_count": 7,
   "metadata": {},
   "outputs": [
    {
     "name": "stdout",
     "output_type": "stream",
     "text": [
      "Potato___healthy\n"
     ]
    }
   ],
   "source": [
    "max_index = np.argmax(PREDICTEDCLASSES2, axis=1)\n",
    "\n",
    "print(label_classes[max_index[0]])\n"
   ]
  },
  {
   "cell_type": "code",
   "execution_count": null,
   "metadata": {},
   "outputs": [],
   "source": []
  }
 ],
 "metadata": {
  "kernelspec": {
   "display_name": "Python 3",
   "language": "python",
   "name": "python3"
  },
  "language_info": {
   "codemirror_mode": {
    "name": "ipython",
    "version": 3
   },
   "file_extension": ".py",
   "mimetype": "text/x-python",
   "name": "python",
   "nbconvert_exporter": "python",
   "pygments_lexer": "ipython3",
   "version": "3.7.3"
  }
 },
 "nbformat": 4,
 "nbformat_minor": 4
}
